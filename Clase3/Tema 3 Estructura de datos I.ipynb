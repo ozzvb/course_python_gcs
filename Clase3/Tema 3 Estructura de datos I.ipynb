{
 "cells": [
  {
   "cell_type": "markdown",
   "metadata": {},
   "source": [
    "# Estructuras de datos\n",
    "\n",
    "En su forma más básica, podemos almacenar información utilizando variables. Cuando agrupamos variables podemos utilizar estructuras de datos que nos permiten ciertas operaciones, por lo cual debemos practicar un poco para estar seguros del tipo de escructura que funciona mejor para ciertos datos de mi aplicación.\n",
    "\n",
    "Algunas estructuas de datos en Python:\n",
    "\n",
    "- Cadenas\n",
    "- Listas\n",
    "- Matrices\n",
    "- Tuplas\n",
    "- Diccionarios\n",
    "\n",
    "## Cadenas (strings)\n",
    "\n",
    "Es una secuencia de caracteres, es inmutable. Podemos realizar operaciones como:\n",
    "\n",
    "### Indexación\n",
    "\n",
    "Vamos a llamar a elementos de la cadena, de forma individual:\n"
   ]
  },
  {
   "cell_type": "code",
   "execution_count": 1,
   "metadata": {},
   "outputs": [
    {
     "name": "stdout",
     "output_type": "stream",
     "text": [
      "h a O\n"
     ]
    }
   ],
   "source": [
    "cadena = \"hola MUNDO\"\n",
    "print (cadena[0], cadena[3], cadena[9])"
   ]
  },
  {
   "cell_type": "markdown",
   "metadata": {},
   "source": [
    "### Membresía\n",
    "\n",
    "Consultamos si un valor existe dentro de una cadena:"
   ]
  },
  {
   "cell_type": "code",
   "execution_count": 2,
   "metadata": {},
   "outputs": [
    {
     "name": "stdout",
     "output_type": "stream",
     "text": [
      "False\n",
      "True\n",
      "False\n"
     ]
    }
   ],
   "source": [
    "print(\"x\" in cadena)\n",
    "print(\"a\" in cadena)\n",
    "print(\"m\" in cadena) # Importante si es mayúscula o minúscula"
   ]
  },
  {
   "cell_type": "markdown",
   "metadata": {},
   "source": [
    "### Segmentación\n",
    "\n",
    "Podemos llamar a porciones del texto. El primer argumento indica el inicio, y el segundo donde debe detenerse y dejar de imprimir. Observe que la letra \"o\" debería ser ``cadena[9]``"
   ]
  },
  {
   "cell_type": "code",
   "execution_count": 8,
   "metadata": {},
   "outputs": [
    {
     "name": "stdout",
     "output_type": "stream",
     "text": [
      "hola MUNDO\n"
     ]
    }
   ],
   "source": [
    "print(cadena[0:10])"
   ]
  },
  {
   "cell_type": "markdown",
   "metadata": {},
   "source": [
    "### Longitud, máximo, mínimo\n",
    "\n",
    "Podemos jugar con el tamaño, consultar cual es la letra de mayor tamaño y menor, según posición en alfabeto."
   ]
  },
  {
   "cell_type": "code",
   "execution_count": 12,
   "metadata": {},
   "outputs": [
    {
     "name": "stdout",
     "output_type": "stream",
     "text": [
      "10\n",
      "o\n",
      "a\n",
      "z\n"
     ]
    }
   ],
   "source": [
    "print(len(cadena))\n",
    "print(max(cadena))\n",
    "\n",
    "print(min('a', 'h', 'z'))\n",
    "print(max('a', 'h', 'z'))"
   ]
  },
  {
   "cell_type": "markdown",
   "metadata": {},
   "source": [
    "### Concatenación y repetición"
   ]
  },
  {
   "cell_type": "code",
   "execution_count": 10,
   "metadata": {},
   "outputs": [
    {
     "name": "stdout",
     "output_type": "stream",
     "text": [
      "Fulano cualquiera\n",
      "Error Error Error Error Error Error Error Error \n"
     ]
    }
   ],
   "source": [
    "Nombre = 'Fulano'\n",
    "Apellido = 'cualquiera'\n",
    "Nombre_Completo = Nombre + ' ' + Apellido\n",
    "print(Nombre_Completo)\n",
    "\n",
    "mensaje = 'Error '\n",
    "imprimir = mensaje * 8\n",
    "print(imprimir)"
   ]
  },
  {
   "cell_type": "markdown",
   "metadata": {},
   "source": [
    "### Recorrido con for y while"
   ]
  },
  {
   "cell_type": "code",
   "execution_count": 14,
   "metadata": {},
   "outputs": [
    {
     "name": "stdout",
     "output_type": "stream",
     "text": [
      "h\n",
      "o\n",
      "l\n",
      "a\n",
      " \n",
      "M\n",
      "U\n",
      "N\n",
      "D\n",
      "O\n",
      "h\n",
      "o\n",
      "l\n",
      "a\n",
      " \n",
      "M\n",
      "U\n",
      "N\n",
      "D\n",
      "O\n"
     ]
    }
   ],
   "source": [
    "for letra in cadena:\n",
    "    print(letra)\n",
    "\n",
    "i = 0\n",
    "while i < len(cadena):\n",
    "    print(cadena[i])\n",
    "    i = i + 1"
   ]
  },
  {
   "cell_type": "markdown",
   "metadata": {},
   "source": [
    "### Métodos para modificar cadenas\n",
    "\n",
    "Los métodos son operaciones que podemos ejecutar sobre la cadena ya creada, sin alterar su contenido."
   ]
  },
  {
   "cell_type": "code",
   "execution_count": 15,
   "metadata": {},
   "outputs": [
    {
     "name": "stdout",
     "output_type": "stream",
     "text": [
      "Hola mundo\n",
      "HOLA MUNDO\n",
      "hola mundo\n",
      "HOLA mundo\n",
      "6\n",
      "1\n",
      "True\n",
      "False\n",
      "False\n",
      "['hola', 'MUNDO']\n",
      "<class 'list'>\n",
      "hola MUNDO\n"
     ]
    }
   ],
   "source": [
    "print(cadena.capitalize())   # Solo la primera letra\n",
    "print(cadena.upper())        # Todo el texto a mayúscula\n",
    "print(cadena.lower())        # Todo el texto a minúscula\n",
    "print(cadena.swapcase())     # Al contrario\n",
    "\n",
    "print(cadena.find('UND'))    # Busca y retorna posición\n",
    "print(cadena.count('ola'))   # Cuenta repeticiones\n",
    "\n",
    "print(cadena.endswith('DO')) # Retorna True o False si termina con cierto texto. También puede probar startswith()\n",
    "print(cadena.islower())      # Retorna True o False si todo es minúscula. Pruebe también isupper()\n",
    "print(cadena.isalpha())      # Retorna True o False si son letras. También esta isalnum() para alfanumérico,\n",
    "                             # isdigit() para números\n",
    "\n",
    "print(cadena.split())        # Separa las palabras y devuelve como lista. También existe join() que realiza lo contrario\n",
    "print(type(cadena.split()))  # y también splitlines() para separar por oraciones en lugar de palabras\n",
    "\n",
    "print(cadena)                # Contenido original intacto"
   ]
  },
  {
   "cell_type": "markdown",
   "metadata": {},
   "source": [
    "### ¿Inmutable?\n",
    "\n",
    "Es una palabra grande para preguntar si podemos modificar la variable una vez que ha sido creada. Si podemos redefinirla, sin embargo estamos hablando de modificar sus elementos.\n",
    "\n",
    "El siguiente ejemplo representa la idea de reemplazar el primer caracter 'h' por una 'G', sin embargo vamos a recibir un error dado que nos es una operación permitida."
   ]
  },
  {
   "cell_type": "code",
   "execution_count": null,
   "metadata": {},
   "outputs": [],
   "source": [
    "cadena[0] = 'G'"
   ]
  },
  {
   "cell_type": "markdown",
   "metadata": {},
   "source": [
    "## Listas\n",
    "\n",
    "En las listas almacenamos varias variables, las cuales pueden ser del mismo tipo o incluso diferentes. Es de las estructuras de datos más utilizadas en Python.\n"
   ]
  },
  {
   "cell_type": "code",
   "execution_count": 70,
   "metadata": {},
   "outputs": [
    {
     "name": "stdout",
     "output_type": "stream",
     "text": [
      "Hola 2 3.14\n",
      "[1, 2, 3]\n"
     ]
    }
   ],
   "source": [
    "lista_de_palabras = ['Hola', 'Mundo']\n",
    "lista_de_numeros_int = [1, 2, 3]\n",
    "lista_mixta = ['pi', 3.14 ]\n",
    "lista_vacia = []\n",
    "\n",
    "print(lista_de_palabras[0], lista_de_numeros[1], lista_mixta[1])\n",
    "\n"
   ]
  },
  {
   "cell_type": "markdown",
   "metadata": {},
   "source": [
    "Podemos llamar a rangos de elementos, donde el primer argumento indica la posición antes a la que debe comenzar a imprimir. Si solo utilizamos un argumento en lugar de dos, indicamos ya sea donde queremos que inicie o que termine."
   ]
  },
  {
   "cell_type": "code",
   "execution_count": 24,
   "metadata": {},
   "outputs": [
    {
     "ename": "NameError",
     "evalue": "name 'lista_de_numeros_int' is not defined",
     "output_type": "error",
     "traceback": [
      "\u001b[0;31m---------------------------------------------------------------------------\u001b[0m",
      "\u001b[0;31mNameError\u001b[0m                                 Traceback (most recent call last)",
      "\u001b[0;32m/tmp/ipykernel_2501879/2766351064.py\u001b[0m in \u001b[0;36m<module>\u001b[0;34m\u001b[0m\n\u001b[0;32m----> 1\u001b[0;31m \u001b[0mprint\u001b[0m\u001b[0;34m(\u001b[0m\u001b[0mlista_de_numeros_int\u001b[0m\u001b[0;34m[\u001b[0m\u001b[0;36m0\u001b[0m\u001b[0;34m:\u001b[0m\u001b[0;36m2\u001b[0m\u001b[0;34m]\u001b[0m\u001b[0;34m)\u001b[0m\u001b[0;34m\u001b[0m\u001b[0;34m\u001b[0m\u001b[0m\n\u001b[0m\u001b[1;32m      2\u001b[0m \u001b[0;31m#print(lista_de_numeros_int[:2])\u001b[0m\u001b[0;34m\u001b[0m\u001b[0;34m\u001b[0m\u001b[0m\n\u001b[1;32m      3\u001b[0m \u001b[0;31m#print(lista_de_numeros_int[2:])\u001b[0m\u001b[0;34m\u001b[0m\u001b[0;34m\u001b[0m\u001b[0m\n",
      "\u001b[0;31mNameError\u001b[0m: name 'lista_de_numeros_int' is not defined"
     ]
    }
   ],
   "source": [
    "print(lista_de_numeros_int[0:2])\n",
    "#print(lista_de_numeros_int[:2])\n",
    "#print(lista_de_numeros_int[2:])"
   ]
  },
  {
   "cell_type": "markdown",
   "metadata": {},
   "source": [
    "### Manipulando elementos\n",
    "\n",
    "Además, es posible agregar y / o eliminar elementos de una lista:"
   ]
  },
  {
   "cell_type": "code",
   "execution_count": 16,
   "metadata": {},
   "outputs": [
    {
     "name": "stdout",
     "output_type": "stream",
     "text": [
      "['Alice', 'Bob', 'Craig', 'Diana', 'Eric', 'Sia']\n",
      "['Alice', 'Nikki', 'Bob', 'Craig', 'Diana', 'Eric', 'Sia']\n",
      "['Alice', 'Nikki', 'Craig', 'Diana', 'Eric', 'Sia']\n"
     ]
    }
   ],
   "source": [
    "# Agregando\n",
    "\n",
    "names = ['Alice', 'Bob', 'Craig', 'Diana', 'Eric']\n",
    "names.append(\"Sia\")\n",
    "print(names)\n",
    "\n",
    "# Insertando en posición\n",
    "\n",
    "names.insert(1, \"Nikki\")\n",
    "print(names)\n",
    "\n",
    "# Eliminando\n",
    "\n",
    "names.remove(\"Bob\")\n",
    "print(names)"
   ]
  },
  {
   "cell_type": "markdown",
   "metadata": {},
   "source": [
    "### Conversión entre listas y cadenas\n",
    "\n",
    "Podemos convertir una cadena en una lista, y realizar operaciones sobre sus elementos."
   ]
  },
  {
   "cell_type": "code",
   "execution_count": 71,
   "metadata": {},
   "outputs": [
    {
     "name": "stdout",
     "output_type": "stream",
     "text": [
      "['h', 'e', 'l', 'l', 'o']\n",
      "['a', 'l', 'o', 'h']\n"
     ]
    }
   ],
   "source": [
    "a = 'hello'\n",
    "print (list(a))\n",
    "\n",
    "b = reversed(\"hola\")\n",
    "print (list(b))"
   ]
  },
  {
   "cell_type": "markdown",
   "metadata": {},
   "source": [
    "### Otras operaciones a listas\n",
    "\n",
    "- pop(indice)\n",
    "- pop()\n",
    "- sort()\n",
    "- count()\n",
    "- index()"
   ]
  },
  {
   "cell_type": "markdown",
   "metadata": {},
   "source": [
    "## Ejercicio\n",
    "\n",
    "1. Utilizando condicionales, observe cual de 3 pads capacitivos ha sido tocado en la Playground.\n",
    "2. Utilizando listas, dependiendo de cual pad sea tocado, imprima un mensaje diferente"
   ]
  }
 ],
 "metadata": {
  "kernelspec": {
   "display_name": "Python 3",
   "language": "python",
   "name": "python3"
  },
  "language_info": {
   "codemirror_mode": {
    "name": "ipython",
    "version": 3
   },
   "file_extension": ".py",
   "mimetype": "text/x-python",
   "name": "python",
   "nbconvert_exporter": "python",
   "pygments_lexer": "ipython3",
   "version": "3.9.7"
  }
 },
 "nbformat": 4,
 "nbformat_minor": 2
}
