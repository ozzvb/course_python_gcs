{
 "cells": [
  {
   "cell_type": "code",
   "execution_count": null,
   "metadata": {},
   "outputs": [],
   "source": [
    "from flask import Flask\n",
    "app = Flask(__name__)\n",
    "\n",
    "\n",
    "@app.route('/')\n",
    "def hello():\n",
    "    return \"Hello World!\"\n",
    "\n",
    "if __name__ == '__main__':\n",
    "    app.run()"
   ]
  },
  {
   "cell_type": "code",
   "execution_count": null,
   "metadata": {},
   "outputs": [],
   "source": [
    "#Crear archivo config.py con:\n",
    "\n",
    "import os\n",
    "basedir = os.path.abspath(os.path.dirname(__file__))\n",
    "\n",
    "\n",
    "class Config(object):\n",
    "    DEBUG = False\n",
    "    TESTING = False\n",
    "    CSRF_ENABLED = True\n",
    "    SECRET_KEY = 'this-really-needs-to-be-changed'\n",
    "\n",
    "\n",
    "class ProductionConfig(Config):\n",
    "    DEBUG = False\n",
    "\n",
    "\n",
    "class StagingConfig(Config):\n",
    "    DEVELOPMENT = True\n",
    "    DEBUG = True\n",
    "\n",
    "\n",
    "class DevelopmentConfig(Config):\n",
    "    DEVELOPMENT = True\n",
    "    DEBUG = True\n",
    "\n",
    "\n",
    "class TestingConfig(Config):\n",
    "    TESTING = True\n"
   ]
  },
  {
   "cell_type": "code",
   "execution_count": null,
   "metadata": {},
   "outputs": [],
   "source": [
    "\n",
    "'''La clase flask.Flask.\n",
    "\n",
    "La clase flask.Flask es el componente principal del framework. Los objetos instanciados a partir de esta clase realizarán todas las funciones del servidor de aplicaciones.\n",
    "\n",
    "El único parámetro requerido obligatoriamente al instanciar un objeto de tipo Flask es el nombre de la aplicación, el cual de principio corresponde al objeto asignado al nombre del entorno global __name__.\n",
    "\n",
    "Solamente si se piensa en utilizar un objeto de tipo Flask dentro de un paquete, el nombre deber de ser cambiado al nombre del paquete.\n",
    "\n",
    "Sintaxis:\n",
    "\n",
    "<nombre> = flask.Flask(<nombre de la aplicación>)\n",
    "\n",
    " \n",
    "\n",
    "Ejemplo:\n",
    "\n",
    "En el script codigo/servidor.py se le asignó el nombre app al objeto de tipo Flask.'''\n",
    "\n",
    "from flask import Flask\n",
    "\n",
    "app = Flask(__name__)\n",
    "\n"
   ]
  },
  {
   "cell_type": "code",
   "execution_count": null,
   "metadata": {},
   "outputs": [],
   "source": [
    "#Añade el código que te muestro a continuación:\n",
    "\n",
    "    posts = []\n",
    "    @app.route(\"/\")\n",
    "    def index():\n",
    "        return \"{} posts\".format(len(posts))"
   ]
  },
  {
   "cell_type": "code",
   "execution_count": null,
   "metadata": {},
   "outputs": [],
   "source": [
    "    @app.route(\"/p/<string:slug>/\")\n",
    "    def show_post(slug):\n",
    "        return \"Mostrando el post {}\".format(slug)\n",
    "\n",
    "#En esta vista hemos definido el parámetro slug en la URL y dicho parámetro se toma como argumento de la función show_post(slug). De momento, lo único que hace esta función es mostrar al usuario la parte de la URL que está parametrizada. "
   ]
  },
  {
   "cell_type": "code",
   "execution_count": null,
   "metadata": {},
   "outputs": [],
   "source": [
    "#Creando la vista para crear/modificar un post\n",
    "    @app.route(\"/admin/post/\")\n",
    "    @app.route(\"/admin/post/<int:post_id>/\")\n",
    "    def post_form(post_id=None):\n",
    "        return \"post_form {}\".format(post_id)"
   ]
  },
  {
   "cell_type": "markdown",
   "metadata": {},
   "source": [
    "Para renderizar una plantilla creada con Jinja2 simplemente hay que hacer uso del método render_template(). A este método debemos pasarle el nombre de nuestra plantilla y las variables necesarias para su renderizado como parámetros clave-valor.\n",
    "\n",
    "Flask buscará las plantillas en el directorio templates de nuestro proyecto. En el sistema de ficheros, este directorio se debe encontrar en el mismo nivel en el que hayamos definido nuestra aplicación. En nuestro caso, la aplicación se encuentra en el fichero run.py.\n",
    "\n",
    "Es hora de crear este directorio y añadir las páginas index.html, post_view.html y admin/post_form.html. "
   ]
  },
  {
   "cell_type": "code",
   "execution_count": null,
   "metadata": {},
   "outputs": [],
   "source": [
    "    @app.route(\"/\")\n",
    "    def index():\n",
    "        return render_template(\"index.html\", num_posts=len(posts))\n",
    "    @app.route(\"/p/<string:slug>/\")\n",
    "    def show_post(slug):\n",
    "        return render_template(\"post_view.html\", slug_title=slug)\n",
    "    @app.route(\"/admin/post/\")\n",
    "    @app.route(\"/admin/post/<int:post_id>/\")\n",
    "    def post_form(post_id=None):\n",
    "        return render_template(\"admin/post_form.html\", post_id=post_id)"
   ]
  },
  {
   "cell_type": "code",
   "execution_count": null,
   "metadata": {},
   "outputs": [],
   "source": [
    "index.html\n",
    "\n",
    "    <!DOCTYPE html>\n",
    "    <html lang=\"es\">\n",
    "    <head>\n",
    "        <meta charset=\"UTF-8\">\n",
    "        <title>Tutorial Flask: Miniblog</title>\n",
    "    </head>\n",
    "    <body>\n",
    "        {{ num_posts }} posts\n",
    "    </body>\n",
    "    </html>\n",
    "\n"
   ]
  },
  {
   "cell_type": "code",
   "execution_count": null,
   "metadata": {},
   "outputs": [],
   "source": [
    "post_view.html\n",
    "\n",
    "    <!DOCTYPE html>\n",
    "    <html lang=\"en\">\n",
    "    <head>\n",
    "        <meta charset=\"UTF-8\">\n",
    "        <title>{{ slug_title }}</title>\n",
    "    </head>\n",
    "    <body>\n",
    "        Mostrando el post {{ slug_title }}\n",
    "    </body>\n",
    "    </html>\n",
    "\n"
   ]
  },
  {
   "cell_type": "code",
   "execution_count": null,
   "metadata": {},
   "outputs": [],
   "source": [
    "post_form.html\n",
    "\n",
    "    <!DOCTYPE html>\n",
    "    <html lang=\"en\"> <!DOCTYPE html>\n",
    "    <html lang=\"en\">\n",
    "    <head>\n",
    "        <meta charset=\"UTF-8\">\n",
    "        <title>{{ slug_title }}</title>\n",
    "    </head>\n",
    "    <body>\n",
    "        Mostrando el post {{ slug_title }}\n",
    "    </body>\n",
    "    </html>\n",
    "    <head>\n",
    "        <meta charset=\"UTF-8\">\n",
    "        <title>\n",
    "            {% if post_id %}\n",
    "                Modificando el post {{ post_id }}\n",
    "            {% else %}\n",
    "                Nuevo post\n",
    "            {% endif %}\n",
    "        </title>\n",
    "    </head>\n",
    "    <body>\n",
    "    {% if post_id %}\n",
    "        Modificando el post {{ post_id }}\n",
    "    {% else %}\n",
    "        Nuevo post\n",
    "    {% endif %}\n",
    "    </body>\n",
    "    </html>"
   ]
  }
 ],
 "metadata": {
  "kernelspec": {
   "display_name": "Python 3",
   "language": "python",
   "name": "python3"
  },
  "language_info": {
   "codemirror_mode": {
    "name": "ipython",
    "version": 3
   },
   "file_extension": ".py",
   "mimetype": "text/x-python",
   "name": "python",
   "nbconvert_exporter": "python",
   "pygments_lexer": "ipython3",
   "version": "3.7.3"
  }
 },
 "nbformat": 4,
 "nbformat_minor": 2
}
